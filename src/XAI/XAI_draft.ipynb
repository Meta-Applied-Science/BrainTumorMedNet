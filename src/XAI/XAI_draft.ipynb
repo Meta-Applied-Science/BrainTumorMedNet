{
 "cells": [
  {
   "cell_type": "markdown",
   "id": "c1a28b75",
   "metadata": {},
   "source": [
    "This file covers detailed information about behind the shap and lime values"
   ]
  }
 ],
 "metadata": {
  "language_info": {
   "name": "python"
  }
 },
 "nbformat": 4,
 "nbformat_minor": 5
}
