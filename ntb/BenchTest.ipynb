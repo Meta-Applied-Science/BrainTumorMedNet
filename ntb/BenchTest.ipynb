{
 "cells": [
  {
   "cell_type": "markdown",
   "id": "bdb60cf1",
   "metadata": {},
   "source": [
    "# **SETUP**"
   ]
  },
  {
   "cell_type": "code",
   "execution_count": 1,
   "id": "b059311c",
   "metadata": {},
   "outputs": [
    {
     "name": "stderr",
     "output_type": "stream",
     "text": [
      "/home/hoai-linh.dao/Envs/brats-env/lib/python3.11/site-packages/tqdm/auto.py:21: TqdmWarning: IProgress not found. Please update jupyter and ipywidgets. See https://ipywidgets.readthedocs.io/en/stable/user_install.html\n",
      "  from .autonotebook import tqdm as notebook_tqdm\n"
     ]
    },
    {
     "name": "stdout",
     "output_type": "stream",
     "text": [
      "CUDA available: True\n",
      "Number of GPUs: 2\n",
      "GPU 0: NVIDIA L40\n",
      "GPU 1: NVIDIA L40\n"
     ]
    }
   ],
   "source": [
    "import torch\n",
    "import os\n",
    "import sys\n",
    "\n",
    "import pickle\n",
    "import itertools\n",
    "from tqdm import tqdm\n",
    "\n",
    "from contextlib import redirect_stdout, redirect_stderr\n",
    "\n",
    "current_dir = os.getcwd()\n",
    "sys.path.append(os.path.abspath(os.path.join(current_dir, \"../src/\")))\n",
    "from engine import run_vit_experiment, run_cnn_experiment\n",
    "from config import VIT_MODEL_CONFIG_MAP, CNN_MODEL_CONFIG_MAP, OPTIMIZER_CONFIG_MAP\n",
    "from utils import _DevNull\n",
    "\n",
    "print(\"CUDA available:\", torch.cuda.is_available())\n",
    "print(\"Number of GPUs:\", torch.cuda.device_count())\n",
    "for i in range(torch.cuda.device_count()):\n",
    "    print(f\"GPU {i}: {torch.cuda.get_device_name(i)}\")"
   ]
  },
  {
   "cell_type": "code",
   "execution_count": 2,
   "id": "92228999",
   "metadata": {},
   "outputs": [],
   "source": [
    "DEVICE = \"cuda:0\"\n",
    "ROOT = \"/home/hoai-linh.dao/Works/BraTS/results/self-experiments/cnns-Figshare-x10\"\n",
    "CHECKPOINT_FILE = os.path.join(ROOT, \"checkpoint.pkl\") # for monitorring progress\n",
    "SUMMARY_FILE = os.path.join(ROOT, \"summary.txt\")\n",
    "DTS_DIR = \"/home/hoai-linh.dao/Works/BraTS/dts/Figshare_x10\" \n",
    "DATALOADER_TYPE = \"flat\" # Figshare | Figshare_X10 : \"flat\"; BT_4C | MRI-Scan : \"split_folder\"; Br35H: \"binary_class\"\n",
    "if os.path.exists(CHECKPOINT_FILE):\n",
    "    with open(CHECKPOINT_FILE, \"rb\") as f:\n",
    "        all_results = pickle.load(f)\n",
    "else:\n",
    "    all_results = {}\n",
    "# # Config for ViTs\n",
    "# model_patch_sizes = [\"B16\", \"L16\", \"B32\", \"L32\"]\n",
    "# img_nets = [\"1K\", \"21K\"]\n",
    "# case_nums = [\"1\", \"2\", \"3\"]\n",
    "# optimizer_names = [\"adam\"]\n",
    "\n",
    "# Config for CNNs\n",
    "model_names = [\"VGG16\", \"ResNet50\", \"GoogLeNet\", \"MobileNetV2\", \"DenseNet121\", \"ConvNeXt_Large\", \"EfficientNetB0\"]\n",
    "case_nums = [\"5\"]\n",
    "optimizer_names = [\"adam\"]\n"
   ]
  },
  {
   "cell_type": "markdown",
   "id": "cfb8d961",
   "metadata": {},
   "source": [
    "# **BENCH TEST**"
   ]
  },
  {
   "cell_type": "code",
   "execution_count": 3,
   "id": "b83a8ee1",
   "metadata": {},
   "outputs": [],
   "source": [
    "# combinations = list(itertools.product(model_patch_sizes, img_nets, case_nums, optimizer_names))\n",
    "\n",
    "# remaining_combinations = [\n",
    "#     (patch_size, img_net, case_num, optimizer)\n",
    "#     for patch_size, img_net, case_num, optimizer in combinations\n",
    "#     if f\"{patch_size}_{img_net}_case{case_num}_{optimizer}\" not in all_results\n",
    "# ]\n",
    "\n",
    "# pbar = tqdm(\n",
    "#     remaining_combinations,\n",
    "#     total=len(remaining_combinations),\n",
    "#     desc=\"Running experiments\"\n",
    "# )\n",
    "\n",
    "# for patch_size, img_net, case_num, optimizer in pbar:\n",
    "#     config_key = f\"{patch_size}_{img_net}_case{case_num}_{optimizer}\"\n",
    "#     experiment_name = f\"{patch_size}_{img_net}_case{case_num}\"\n",
    "#     log_path = os.path.join(\n",
    "#         ROOT, \"logs\", optimizer, f\"{experiment_name}.txt\"\n",
    "#     )\n",
    "\n",
    "#     pbar.set_description(f\"{config_key}\")\n",
    "#     pbar.set_postfix(log=log_path)\n",
    "\n",
    "#     try:\n",
    "#         with redirect_stdout(_DevNull()), redirect_stderr(_DevNull()):\n",
    "#             result = run_vit_experiment(\n",
    "#                 model_patch_size     = patch_size,\n",
    "#                 img_net              = img_net,\n",
    "#                 case_num             = case_num,\n",
    "#                 optimizer_name       = optimizer,\n",
    "#                 seed                 = 42,\n",
    "#                 dataset_dir          = DTS_DIR,\n",
    "#                 num_classes          = 3,\n",
    "#                 device               = DEVICE,\n",
    "#                 experiment_root      = ROOT,\n",
    "#                 model_config_map     = VIT_MODEL_CONFIG_MAP,\n",
    "#                 optimizer_config_map = OPTIMIZER_CONFIG_MAP,\n",
    "#                 dataloader_type      = DATALOADER_TYPE\n",
    "#             )\n",
    "\n",
    "#         all_results[config_key] = result\n",
    "#         with open(CHECKPOINT_FILE, \"wb\") as f:\n",
    "#             pickle.dump(all_results, f)\n",
    "\n",
    "#     except Exception as e:\n",
    "#         tqdm.write(f\"[FAIL] {config_key}: {e}\")\n",
    "\n",
    "# with open(SUMMARY_FILE, \"w\", encoding=\"utf-8\") as f:\n",
    "#     for config, result in all_results.items():\n",
    "#         weight_path = result.get('weights_path', 'No information for weight')\n",
    "#         f.write(f\"{config}: Weights saved at {weight_path}\\n\")\n"
   ]
  },
  {
   "cell_type": "code",
   "execution_count": 4,
   "id": "94550490",
   "metadata": {},
   "outputs": [
    {
     "name": "stderr",
     "output_type": "stream",
     "text": [
      "EfficientNetB0_case5_adam: 100%|██████████| 7/7 [6:15:34<00:00, 3219.21s/it, log=/home/hoai-linh.dao/Works/BraTS/results/self-experiments/cnns-Figshare-x10/logs/adam/EfficientNetB0_case5.txt]  \n"
     ]
    }
   ],
   "source": [
    "combinations = list(itertools.product(model_names, case_nums, optimizer_names))\n",
    "\n",
    "remaining_combinations = [\n",
    "    (model_names, case_num, optimizer)\n",
    "    for model_names, case_num, optimizer in combinations\n",
    "    if f\"{model_names}_case{case_num}_{optimizer}\" not in all_results\n",
    "]\n",
    "\n",
    "pbar = tqdm(\n",
    "    remaining_combinations,\n",
    "    total=len(remaining_combinations),\n",
    "    desc=\"Running experiments\"\n",
    ")\n",
    "\n",
    "for model_name, case_num, optimizer in pbar:\n",
    "    config_key = f\"{model_name}_case{case_num}_{optimizer}\"\n",
    "    experiment_name = f\"{model_name}_case{case_num}\"\n",
    "    log_path = os.path.join(\n",
    "        ROOT, \"logs\", optimizer, f\"{experiment_name}.txt\"\n",
    "    )\n",
    "\n",
    "    pbar.set_description(f\"{config_key}\")\n",
    "    pbar.set_postfix(log=log_path)\n",
    "\n",
    "    try:\n",
    "        with redirect_stdout(_DevNull()), redirect_stderr(_DevNull()):\n",
    "            result = run_cnn_experiment(\n",
    "                model_name           = model_name,\n",
    "                case_num             = case_num,\n",
    "                optimizer_name       = optimizer,\n",
    "                seed                 = 42,\n",
    "                dataset_dir          = DTS_DIR,\n",
    "                num_classes          = 3,\n",
    "                device               = DEVICE,\n",
    "                experiment_root      = ROOT,\n",
    "                model_config_map     = CNN_MODEL_CONFIG_MAP,\n",
    "                optimizer_config_map = OPTIMIZER_CONFIG_MAP,\n",
    "                dataloader_type      = DATALOADER_TYPE\n",
    "            )\n",
    "\n",
    "        all_results[config_key] = result\n",
    "        with open(CHECKPOINT_FILE, \"wb\") as f:\n",
    "            pickle.dump(all_results, f)\n",
    "\n",
    "    except Exception as e:\n",
    "        tqdm.write(f\"[FAIL] {config_key}: {e}\")\n",
    "\n",
    "with open(SUMMARY_FILE, \"w\", encoding=\"utf-8\") as f:\n",
    "    for config, result in all_results.items():\n",
    "        weight_path = result.get('weights_path', 'No information for weight')\n",
    "        f.write(f\"{config}: Weights saved at {weight_path}\\n\")\n"
   ]
  }
 ],
 "metadata": {
  "kernelspec": {
   "display_name": "Python 3",
   "language": "python",
   "name": "python3"
  },
  "language_info": {
   "codemirror_mode": {
    "name": "ipython",
    "version": 3
   },
   "file_extension": ".py",
   "mimetype": "text/x-python",
   "name": "python",
   "nbconvert_exporter": "python",
   "pygments_lexer": "ipython3",
   "version": "3.11.11"
  }
 },
 "nbformat": 4,
 "nbformat_minor": 5
}
