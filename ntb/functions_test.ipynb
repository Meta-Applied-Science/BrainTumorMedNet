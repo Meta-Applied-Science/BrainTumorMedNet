{
 "cells": [
  {
   "cell_type": "code",
   "execution_count": 1,
   "id": "1759af8e",
   "metadata": {},
   "outputs": [
    {
     "name": "stderr",
     "output_type": "stream",
     "text": [
      "/home/hoai-linh.dao/Envs/brats-env/lib/python3.11/site-packages/tqdm/auto.py:21: TqdmWarning: IProgress not found. Please update jupyter and ipywidgets. See https://ipywidgets.readthedocs.io/en/stable/user_install.html\n",
      "  from .autonotebook import tqdm as notebook_tqdm\n"
     ]
    },
    {
     "name": "stdout",
     "output_type": "stream",
     "text": [
      "CUDA available: True\n",
      "Number of GPUs: 2\n",
      "GPU 0: NVIDIA L40\n",
      "GPU 1: NVIDIA L40\n"
     ]
    }
   ],
   "source": [
    "import torch\n",
    "import os\n",
    "import sys\n",
    "\n",
    "current_dir = os.getcwd()\n",
    "sys.path.append(os.path.abspath(os.path.join(current_dir, \"../src/\")))\n",
    "from inference.evaluation import evaluate_checkpoint_on_dataset\n",
    "\n",
    "print(\"CUDA available:\", torch.cuda.is_available())\n",
    "print(\"Number of GPUs:\", torch.cuda.device_count())\n",
    "for i in range(torch.cuda.device_count()):\n",
    "    print(f\"GPU {i}: {torch.cuda.get_device_name(i)}\")"
   ]
  },
  {
   "cell_type": "code",
   "execution_count": 2,
   "id": "145a75c2",
   "metadata": {},
   "outputs": [
    {
     "name": "stdout",
     "output_type": "stream",
     "text": [
      "Test Loss: 0.0304, Test Accuracy: 0.9954\n"
     ]
    }
   ],
   "source": [
    "model_cfg = {\n",
    "    \"model_name\": \"torchvision.ViT_L_16_Weights.IMAGENET1K_V1\",\n",
    "    \"pretrained\": True\n",
    "}\n",
    "\n",
    "checkpoint_path = \"/home/hoai-linh.dao/Works/BraTS/results/self-experiments/extended-dataset-MRI-scan/weights/adam/L16_1K_case3.pth\"\n",
    "dataset_dir = \"/home/hoai-linh.dao/Works/BraTS/dts/MRI-Scan\"\n",
    "\n",
    "# Evaluate\n",
    "test_loss, test_acc = evaluate_checkpoint_on_dataset(\n",
    "    model_config=model_cfg,\n",
    "    checkpoint_path=checkpoint_path,\n",
    "    dataset_dir=dataset_dir,\n",
    "    num_classes=4,\n",
    "    batch_size=32,\n",
    "    num_workers=4,\n",
    "    train_ratio=0.7,\n",
    "    val_ratio=0.1,\n",
    "    test_ratio=0.2,\n",
    "    seed=42,\n",
    "    mode=\"split_folder\"\n",
    ")\n",
    "\n",
    "print(f\"Test Loss: {test_loss:.4f}, Test Accuracy: {test_acc:.4f}\")"
   ]
  }
 ],
 "metadata": {
  "kernelspec": {
   "display_name": "Python 3",
   "language": "python",
   "name": "python3"
  },
  "language_info": {
   "codemirror_mode": {
    "name": "ipython",
    "version": 3
   },
   "file_extension": ".py",
   "mimetype": "text/x-python",
   "name": "python",
   "nbconvert_exporter": "python",
   "pygments_lexer": "ipython3",
   "version": "3.11.11"
  }
 },
 "nbformat": 4,
 "nbformat_minor": 5
}
