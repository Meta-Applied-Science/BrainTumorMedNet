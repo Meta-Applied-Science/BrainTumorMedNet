{
 "cells": [
  {
   "cell_type": "markdown",
   "id": "bdb60cf1",
   "metadata": {},
   "source": [
    "# **SETUP**"
   ]
  },
  {
   "cell_type": "code",
   "execution_count": 1,
   "id": "b059311c",
   "metadata": {},
   "outputs": [
    {
     "name": "stderr",
     "output_type": "stream",
     "text": [
      "/home/hoai-linh.dao/Envs/brats-env/lib/python3.11/site-packages/tqdm/auto.py:21: TqdmWarning: IProgress not found. Please update jupyter and ipywidgets. See https://ipywidgets.readthedocs.io/en/stable/user_install.html\n",
      "  from .autonotebook import tqdm as notebook_tqdm\n"
     ]
    },
    {
     "name": "stdout",
     "output_type": "stream",
     "text": [
      "CUDA available: True\n",
      "Number of GPUs: 2\n",
      "GPU 0: NVIDIA L40\n",
      "GPU 1: NVIDIA L40\n"
     ]
    }
   ],
   "source": [
    "from __future__ import annotations\n",
    "\n",
    "import itertools\n",
    "import os\n",
    "import pickle\n",
    "import sys\n",
    "from contextlib import redirect_stderr, redirect_stdout\n",
    "from pathlib import Path\n",
    "\n",
    "import torch\n",
    "from tqdm.auto import tqdm\n",
    "\n",
    "if \"__file__\" in globals():\n",
    "    ROOT_DIR = Path(__file__).resolve().parent.parent\n",
    "else:\n",
    "    ROOT_DIR = Path(os.getcwd()).resolve().parent  \n",
    "\n",
    "SRC_DIR = ROOT_DIR / \"src\"\n",
    "sys.path.insert(0, str(SRC_DIR))  \n",
    "\n",
    "from experiments import run_experiments\n",
    "from config import VIT_MODEL_CONFIG_MAP, CNN_MODEL_CONFIG_MAP, OPTIMIZER_CONFIG_MAP\n",
    "from utils.io_utils import DevNull\n",
    "\n",
    "print(\"CUDA available:\", torch.cuda.is_available())\n",
    "print(\"Number of GPUs:\", torch.cuda.device_count())\n",
    "for i in range(torch.cuda.device_count()):\n",
    "    print(f\"GPU {i}: {torch.cuda.get_device_name(i)}\")\n"
   ]
  },
  {
   "cell_type": "code",
   "execution_count": 2,
   "id": "92228999",
   "metadata": {},
   "outputs": [],
   "source": [
    "DEVICE = \"cuda:0\" if torch.cuda.is_available() else \"cpu\"\n",
    "ROOT = Path(\"/home/hoai-linh.dao/Works/BraTS/results/self-experiments/test\")\n",
    "CHECKPOINT_FILE = ROOT / \"checkpoint.pkl\"\n",
    "SUMMARY_FILE = ROOT / \"summary.txt\"\n",
    "DTS_NAME = \"Figshare_x10\"\n",
    "\n",
    "# # FOR CNNs\n",
    "MODEL_NAMES = [\"VGG16\", \"B16_1K\"]\n",
    "CASE_NUMS = [\"4\"]\n",
    "OPTIMIZER_NAMES = [\"adam\"]\n",
    "\n",
    "# # FOR ViTs\n",
    "# MODEL_PATCH_SIZES = [\"B16\"]\n",
    "# IMG_NETS = [\"21K\"]\n",
    "# MODEL_NAMES = [f\"{patch}_{net}\" for patch in MODEL_PATCH_SIZES for net in IMG_NETS]\n",
    "# CASE_NUMS = [\"4\"]\n",
    "# OPTIMIZER_NAMES = [\"adam\"]"
   ]
  },
  {
   "cell_type": "markdown",
   "id": "cfb8d961",
   "metadata": {},
   "source": [
    "# **BENCH TEST**"
   ]
  },
  {
   "cell_type": "code",
   "execution_count": 3,
   "id": "94550490",
   "metadata": {},
   "outputs": [
    {
     "name": "stderr",
     "output_type": "stream",
     "text": [
      "B16_1K_case4_adam: 100%|██████████| 2/2 [04:47<00:00, 143.67s/it, log=/home/hoai-linh.dao/Works/BraTS/results/self-experiments/test/logs/adam/B16_1K_case4.txt]"
     ]
    },
    {
     "name": "stdout",
     "output_type": "stream",
     "text": [
      "All done – see /home/hoai-linh.dao/Works/BraTS/results/self-experiments/test/summary.txt\n"
     ]
    },
    {
     "name": "stderr",
     "output_type": "stream",
     "text": [
      "\n"
     ]
    }
   ],
   "source": [
    "# ---------------------------------------------------------------------------\n",
    "# Recover previous progress (if any)\n",
    "# ---------------------------------------------------------------------------\n",
    "if CHECKPOINT_FILE.exists():\n",
    "    all_results = pickle.loads(CHECKPOINT_FILE.read_bytes())\n",
    "else:\n",
    "    all_results: dict[str, dict] = {}\n",
    "\n",
    "# ---------------------------------------------------------------------------\n",
    "# Build list of runs still pending\n",
    "# ---------------------------------------------------------------------------\n",
    "combinations = list(itertools.product(MODEL_NAMES, CASE_NUMS, OPTIMIZER_NAMES))\n",
    "remaining = [\n",
    "    (model, case, opt)\n",
    "    for model, case, opt in combinations\n",
    "    if f\"{model}_case{case}_{opt}\" not in all_results\n",
    "]\n",
    "\n",
    "# ---------------------------------------------------------------------------\n",
    "# Run the loop\n",
    "# ---------------------------------------------------------------------------\n",
    "ROOT.mkdir(parents=True, exist_ok=True)\n",
    "\n",
    "pbar = tqdm(remaining, total=len(remaining), desc=\"Running experiments\")\n",
    "for model_name, case_num, optimizer in pbar:\n",
    "    cfg_key = f\"{model_name}_case{case_num}_{optimizer}\"\n",
    "    exp_name = f\"{model_name}_case{case_num}\"\n",
    "    log_path = ROOT / \"logs\" / optimizer / f\"{exp_name}.txt\"\n",
    "\n",
    "    pbar.set_description(cfg_key)\n",
    "    pbar.set_postfix(log=str(log_path))\n",
    "\n",
    "    try:\n",
    "        with redirect_stdout(DevNull()), redirect_stderr(DevNull()):\n",
    "            result = run_experiments(\n",
    "                model_name=model_name,\n",
    "                case_num=case_num,\n",
    "                optimizer_name=optimizer,\n",
    "                dataset_name=DTS_NAME,\n",
    "                experiment_root=ROOT,\n",
    "                seed=42,\n",
    "                device=DEVICE\n",
    "            )\n",
    "\n",
    "        all_results[cfg_key] = result\n",
    "        CHECKPOINT_FILE.write_bytes(pickle.dumps(all_results))\n",
    "\n",
    "    except Exception as exc:\n",
    "        tqdm.write(f\"[FAIL] {cfg_key}: {exc}\")\n",
    "\n",
    "# ---------------------------------------------------------------------------\n",
    "# Write summary\n",
    "# ---------------------------------------------------------------------------\n",
    "with SUMMARY_FILE.open(\"w\", encoding=\"utf-8\") as fh:\n",
    "    for cfg, res in all_results.items():\n",
    "        if isinstance(res, dict):\n",
    "            w = res.get(\"weights_path\", \"N/A\")\n",
    "            fh.write(f\"{cfg}: Weights saved at {w}\\n\")\n",
    "        else:\n",
    "            fh.write(f\"{cfg}: FAILED or no result\\n\")\n",
    "            \n",
    "print(\"All done – see\", SUMMARY_FILE)\n"
   ]
  }
 ],
 "metadata": {
  "kernelspec": {
   "display_name": "Python 3",
   "language": "python",
   "name": "python3"
  },
  "language_info": {
   "codemirror_mode": {
    "name": "ipython",
    "version": 3
   },
   "file_extension": ".py",
   "mimetype": "text/x-python",
   "name": "python",
   "nbconvert_exporter": "python",
   "pygments_lexer": "ipython3",
   "version": "3.11.11"
  }
 },
 "nbformat": 4,
 "nbformat_minor": 5
}
