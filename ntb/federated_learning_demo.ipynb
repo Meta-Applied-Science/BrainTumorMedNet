{
 "cells": [
  {
   "cell_type": "markdown",
   "id": "1149ecde",
   "metadata": {},
   "source": [
    "# This is federated learning \n",
    "/home/ma012/AlexServer/phase2/BrainTumorMedNet/src/data/data_loaders.py\n",
    "\n",
    "src/training/engine.py\n",
    "\n",
    "src/utils/model_utils.py"
   ]
  },
  {
   "cell_type": "code",
   "execution_count": null,
   "id": "93406d80",
   "metadata": {},
   "outputs": [
    {
     "name": "stdout",
     "output_type": "stream",
     "text": [
      "Collecting flwr[simulation]\n",
      "  Downloading flwr-1.18.0-py3-none-any.whl.metadata (15 kB)\n",
      "Collecting cryptography<45.0.0,>=44.0.1 (from flwr[simulation])\n",
      "  Downloading cryptography-44.0.3-cp39-abi3-manylinux_2_34_x86_64.whl.metadata (5.7 kB)\n",
      "Collecting grpcio!=1.65.0,<2.0.0,>=1.62.3 (from flwr[simulation])\n",
      "  Downloading grpcio-1.72.1-cp312-cp312-manylinux_2_17_x86_64.manylinux2014_x86_64.whl.metadata (3.8 kB)\n",
      "Collecting iterators<0.0.3,>=0.0.2 (from flwr[simulation])\n",
      "  Downloading iterators-0.0.2-py3-none-any.whl.metadata (2.5 kB)\n",
      "Requirement already satisfied: numpy<3.0.0,>=1.26.0 in /home/ma012/AlexServer/btc/lib/python3.12/site-packages (from flwr[simulation]) (2.1.3)\n",
      "Collecting pathspec<0.13.0,>=0.12.1 (from flwr[simulation])\n",
      "  Using cached pathspec-0.12.1-py3-none-any.whl.metadata (21 kB)\n",
      "Collecting protobuf<5.0.0,>=4.21.6 (from flwr[simulation])\n",
      "  Downloading protobuf-4.25.8-cp37-abi3-manylinux2014_x86_64.whl.metadata (541 bytes)\n",
      "Collecting pycryptodome<4.0.0,>=3.18.0 (from flwr[simulation])\n",
      "  Downloading pycryptodome-3.23.0-cp37-abi3-manylinux_2_17_x86_64.manylinux2014_x86_64.whl.metadata (3.4 kB)\n",
      "Requirement already satisfied: pyyaml<7.0.0,>=6.0.2 in /home/ma012/AlexServer/btc/lib/python3.12/site-packages (from flwr[simulation]) (6.0.2)\n",
      "Collecting ray==2.31.0 (from flwr[simulation])\n",
      "  Downloading ray-2.31.0-cp312-cp312-manylinux2014_x86_64.whl.metadata (13 kB)\n",
      "Requirement already satisfied: requests<3.0.0,>=2.31.0 in /home/ma012/AlexServer/btc/lib/python3.12/site-packages (from flwr[simulation]) (2.32.3)\n",
      "Collecting rich<14.0.0,>=13.5.0 (from flwr[simulation])\n",
      "  Using cached rich-13.9.4-py3-none-any.whl.metadata (18 kB)\n",
      "Collecting tomli<3.0.0,>=2.0.1 (from flwr[simulation])\n",
      "  Downloading tomli-2.2.1-cp312-cp312-manylinux_2_17_x86_64.manylinux2014_x86_64.whl.metadata (11 kB)\n",
      "Collecting tomli-w<2.0.0,>=1.0.0 (from flwr[simulation])\n",
      "  Downloading tomli_w-1.2.0-py3-none-any.whl.metadata (5.7 kB)\n",
      "Collecting typer<0.13.0,>=0.12.5 (from flwr[simulation])\n",
      "  Using cached typer-0.12.5-py3-none-any.whl.metadata (15 kB)\n",
      "Collecting click>=7.0 (from ray==2.31.0->flwr[simulation])\n",
      "  Downloading click-8.2.1-py3-none-any.whl.metadata (2.5 kB)\n",
      "Requirement already satisfied: filelock in /home/ma012/AlexServer/btc/lib/python3.12/site-packages (from ray==2.31.0->flwr[simulation]) (3.17.0)\n",
      "Collecting jsonschema (from ray==2.31.0->flwr[simulation])\n",
      "  Using cached jsonschema-4.24.0-py3-none-any.whl.metadata (7.8 kB)\n",
      "Collecting msgpack<2.0.0,>=1.0.0 (from ray==2.31.0->flwr[simulation])\n",
      "  Using cached msgpack-1.1.0-cp312-cp312-manylinux_2_17_x86_64.manylinux2014_x86_64.whl.metadata (8.4 kB)\n",
      "Requirement already satisfied: packaging in /home/ma012/AlexServer/btc/lib/python3.12/site-packages (from ray==2.31.0->flwr[simulation]) (24.2)\n",
      "Collecting aiosignal (from ray==2.31.0->flwr[simulation])\n",
      "  Using cached aiosignal-1.3.2-py2.py3-none-any.whl.metadata (3.8 kB)\n",
      "Collecting frozenlist (from ray==2.31.0->flwr[simulation])\n",
      "  Downloading frozenlist-1.6.2-cp312-cp312-manylinux_2_5_x86_64.manylinux1_x86_64.manylinux_2_17_x86_64.manylinux2014_x86_64.whl.metadata (17 kB)\n",
      "Collecting cffi>=1.12 (from cryptography<45.0.0,>=44.0.1->flwr[simulation])\n",
      "  Using cached cffi-1.17.1-cp312-cp312-manylinux_2_17_x86_64.manylinux2014_x86_64.whl.metadata (1.5 kB)\n",
      "Requirement already satisfied: charset-normalizer<4,>=2 in /home/ma012/AlexServer/btc/lib/python3.12/site-packages (from requests<3.0.0,>=2.31.0->flwr[simulation]) (3.4.1)\n",
      "Requirement already satisfied: idna<4,>=2.5 in /home/ma012/AlexServer/btc/lib/python3.12/site-packages (from requests<3.0.0,>=2.31.0->flwr[simulation]) (3.10)\n",
      "Requirement already satisfied: urllib3<3,>=1.21.1 in /home/ma012/AlexServer/btc/lib/python3.12/site-packages (from requests<3.0.0,>=2.31.0->flwr[simulation]) (2.3.0)\n",
      "Requirement already satisfied: certifi>=2017.4.17 in /home/ma012/AlexServer/btc/lib/python3.12/site-packages (from requests<3.0.0,>=2.31.0->flwr[simulation]) (2025.1.31)\n",
      "Collecting markdown-it-py>=2.2.0 (from rich<14.0.0,>=13.5.0->flwr[simulation])\n",
      "  Using cached markdown_it_py-3.0.0-py3-none-any.whl.metadata (6.9 kB)\n",
      "Requirement already satisfied: pygments<3.0.0,>=2.13.0 in /home/ma012/AlexServer/btc/lib/python3.12/site-packages (from rich<14.0.0,>=13.5.0->flwr[simulation]) (2.19.1)\n",
      "Requirement already satisfied: typing-extensions>=3.7.4.3 in /home/ma012/AlexServer/btc/lib/python3.12/site-packages (from typer<0.13.0,>=0.12.5->flwr[simulation]) (4.12.2)\n",
      "Collecting shellingham>=1.3.0 (from typer<0.13.0,>=0.12.5->flwr[simulation])\n",
      "  Using cached shellingham-1.5.4-py2.py3-none-any.whl.metadata (3.5 kB)\n",
      "Collecting pycparser (from cffi>=1.12->cryptography<45.0.0,>=44.0.1->flwr[simulation])\n",
      "  Using cached pycparser-2.22-py3-none-any.whl.metadata (943 bytes)\n",
      "Collecting mdurl~=0.1 (from markdown-it-py>=2.2.0->rich<14.0.0,>=13.5.0->flwr[simulation])\n",
      "  Using cached mdurl-0.1.2-py3-none-any.whl.metadata (1.6 kB)\n",
      "Collecting attrs>=22.2.0 (from jsonschema->ray==2.31.0->flwr[simulation])\n",
      "  Using cached attrs-25.3.0-py3-none-any.whl.metadata (10 kB)\n",
      "Collecting jsonschema-specifications>=2023.03.6 (from jsonschema->ray==2.31.0->flwr[simulation])\n",
      "  Using cached jsonschema_specifications-2025.4.1-py3-none-any.whl.metadata (2.9 kB)\n",
      "Collecting referencing>=0.28.4 (from jsonschema->ray==2.31.0->flwr[simulation])\n",
      "  Using cached referencing-0.36.2-py3-none-any.whl.metadata (2.8 kB)\n",
      "Collecting rpds-py>=0.7.1 (from jsonschema->ray==2.31.0->flwr[simulation])\n",
      "  Using cached rpds_py-0.25.1-cp312-cp312-manylinux_2_17_x86_64.manylinux2014_x86_64.whl.metadata (4.1 kB)\n",
      "Downloading ray-2.31.0-cp312-cp312-manylinux2014_x86_64.whl (66.7 MB)\n",
      "\u001b[2K   \u001b[90m━━━━━━━━━━━━━━━━━━━━━━━━━━━━━━━━━━━━━━━━\u001b[0m \u001b[32m66.7/66.7 MB\u001b[0m \u001b[31m2.4 MB/s\u001b[0m eta \u001b[36m0:00:00\u001b[0m00:01\u001b[0m00:01\u001b[0m\n",
      "\u001b[?25hDownloading cryptography-44.0.3-cp39-abi3-manylinux_2_34_x86_64.whl (4.2 MB)\n",
      "\u001b[2K   \u001b[90m━━━━━━━━━━━━━━━━━━━━━━━━━━━━━━━━━━━━━━━━\u001b[0m \u001b[32m4.2/4.2 MB\u001b[0m \u001b[31m12.2 MB/s\u001b[0m eta \u001b[36m0:00:00\u001b[0m00:01\u001b[0m00:01\u001b[0m\n",
      "\u001b[?25hDownloading grpcio-1.72.1-cp312-cp312-manylinux_2_17_x86_64.manylinux2014_x86_64.whl (5.8 MB)\n",
      "\u001b[2K   \u001b[90m━━━━━━━━━━━━━━━━━━━━━━━━━━━━━━━━━━━━━━━━\u001b[0m \u001b[32m5.8/5.8 MB\u001b[0m \u001b[31m12.5 MB/s\u001b[0m eta \u001b[36m0:00:00\u001b[0m00:01\u001b[0m00:01\u001b[0m\n",
      "\u001b[?25hDownloading iterators-0.0.2-py3-none-any.whl (3.9 kB)\n",
      "Using cached pathspec-0.12.1-py3-none-any.whl (31 kB)\n",
      "Downloading protobuf-4.25.8-cp37-abi3-manylinux2014_x86_64.whl (294 kB)\n",
      "\u001b[2K   \u001b[90m━━━━━━━━━━━━━━━━━━━━━━━━━━━━━━━━━━━━━━━━\u001b[0m \u001b[32m294.9/294.9 kB\u001b[0m \u001b[31m12.1 MB/s\u001b[0m eta \u001b[36m0:00:00\u001b[0m\n",
      "\u001b[?25hDownloading pycryptodome-3.23.0-cp37-abi3-manylinux_2_17_x86_64.manylinux2014_x86_64.whl (2.3 MB)\n",
      "\u001b[2K   \u001b[90m━━━━━━━━━━━━━━━━━━━━━━━━━━━━━━━━━━━━━━━━\u001b[0m \u001b[32m2.3/2.3 MB\u001b[0m \u001b[31m12.1 MB/s\u001b[0m eta \u001b[36m0:00:00\u001b[0m00:01\u001b[0m00:01\u001b[0m\n",
      "\u001b[?25hUsing cached rich-13.9.4-py3-none-any.whl (242 kB)\n",
      "Downloading tomli-2.2.1-cp312-cp312-manylinux_2_17_x86_64.manylinux2014_x86_64.whl (242 kB)\n",
      "\u001b[2K   \u001b[90m━━━━━━━━━━━━━━━━━━━━━━━━━━━━━━━━━━━━━━━━\u001b[0m \u001b[32m242.3/242.3 kB\u001b[0m \u001b[31m14.1 MB/s\u001b[0m eta \u001b[36m0:00:00\u001b[0m\n",
      "\u001b[?25hDownloading tomli_w-1.2.0-py3-none-any.whl (6.7 kB)\n",
      "Using cached typer-0.12.5-py3-none-any.whl (47 kB)\n",
      "Downloading flwr-1.18.0-py3-none-any.whl (540 kB)\n",
      "\u001b[2K   \u001b[90m━━━━━━━━━━━━━━━━━━━━━━━━━━━━━━━━━━━━━━━━\u001b[0m \u001b[32m540.0/540.0 kB\u001b[0m \u001b[31m12.6 MB/s\u001b[0m eta \u001b[36m0:00:00\u001b[0ma \u001b[36m0:00:01\u001b[0m\n",
      "\u001b[?25hUsing cached cffi-1.17.1-cp312-cp312-manylinux_2_17_x86_64.manylinux2014_x86_64.whl (479 kB)\n",
      "Downloading click-8.2.1-py3-none-any.whl (102 kB)\n",
      "\u001b[2K   \u001b[90m━━━━━━━━━━━━━━━━━━━━━━━━━━━━━━━━━━━━━━━━\u001b[0m \u001b[32m102.2/102.2 kB\u001b[0m \u001b[31m15.4 MB/s\u001b[0m eta \u001b[36m0:00:00\u001b[0m\n",
      "\u001b[?25hUsing cached markdown_it_py-3.0.0-py3-none-any.whl (87 kB)\n",
      "Using cached msgpack-1.1.0-cp312-cp312-manylinux_2_17_x86_64.manylinux2014_x86_64.whl (401 kB)\n",
      "Using cached shellingham-1.5.4-py2.py3-none-any.whl (9.8 kB)\n",
      "Using cached aiosignal-1.3.2-py2.py3-none-any.whl (7.6 kB)\n",
      "Downloading frozenlist-1.6.2-cp312-cp312-manylinux_2_5_x86_64.manylinux1_x86_64.manylinux_2_17_x86_64.manylinux2014_x86_64.whl (240 kB)\n",
      "\u001b[2K   \u001b[90m━━━━━━━━━━━━━━━━━━━━━━━━━━━━━━━━━━━━━━━━\u001b[0m \u001b[32m240.2/240.2 kB\u001b[0m \u001b[31m14.5 MB/s\u001b[0m eta \u001b[36m0:00:00\u001b[0m\n",
      "\u001b[?25hUsing cached jsonschema-4.24.0-py3-none-any.whl (88 kB)\n",
      "Using cached attrs-25.3.0-py3-none-any.whl (63 kB)\n",
      "Using cached jsonschema_specifications-2025.4.1-py3-none-any.whl (18 kB)\n",
      "Using cached mdurl-0.1.2-py3-none-any.whl (10.0 kB)\n",
      "Using cached referencing-0.36.2-py3-none-any.whl (26 kB)\n",
      "Using cached rpds_py-0.25.1-cp312-cp312-manylinux_2_17_x86_64.manylinux2014_x86_64.whl (390 kB)\n",
      "Using cached pycparser-2.22-py3-none-any.whl (117 kB)\n",
      "Installing collected packages: tomli-w, tomli, shellingham, rpds-py, pycryptodome, pycparser, protobuf, pathspec, msgpack, mdurl, iterators, grpcio, frozenlist, click, attrs, referencing, markdown-it-py, cffi, aiosignal, rich, jsonschema-specifications, cryptography, typer, jsonschema, ray, flwr\n",
      "Successfully installed aiosignal-1.3.2 attrs-25.3.0 cffi-1.17.1 click-8.2.1 cryptography-44.0.3 flwr-1.18.0 frozenlist-1.6.2 grpcio-1.72.1 iterators-0.0.2 jsonschema-4.24.0 jsonschema-specifications-2025.4.1 markdown-it-py-3.0.0 mdurl-0.1.2 msgpack-1.1.0 pathspec-0.12.1 protobuf-4.25.8 pycparser-2.22 pycryptodome-3.23.0 ray-2.31.0 referencing-0.36.2 rich-13.9.4 rpds-py-0.25.1 shellingham-1.5.4 tomli-2.2.1 tomli-w-1.2.0 typer-0.12.5\n"
     ]
    }
   ],
   "source": [
    "!pip install flwr[simulation]"
   ]
  },
  {
   "cell_type": "code",
   "execution_count": null,
   "id": "d9f67fc2",
   "metadata": {},
   "outputs": [
    {
     "name": "stdout",
     "output_type": "stream",
     "text": [
      "\u001b[35m\u001b[1m\n",
      "💬 Please provide the app name\u001b[0m: \u001b[31mAborted.\u001b[0m\n",
      "^C\n"
     ]
    }
   ],
   "source": [
    "!flwr new  # Select TensorFlow & follow instructions "
   ]
  },
  {
   "cell_type": "code",
   "execution_count": null,
   "id": "b8dc6db5",
   "metadata": {},
   "outputs": [
    {
     "name": "stdout",
     "output_type": "stream",
     "text": [
      "\u001b[35m\u001b[1m\n",
      "💬 Please provide the app name\u001b[0m: \u001b[31mAborted.\u001b[0m\n",
      "^C\n"
     ]
    }
   ],
   "source": []
  },
  {
   "cell_type": "code",
   "execution_count": null,
   "id": "292f9524",
   "metadata": {},
   "outputs": [],
   "source": []
  },
  {
   "cell_type": "code",
   "execution_count": null,
   "id": "74b9a3cd",
   "metadata": {},
   "outputs": [],
   "source": [
    "# MODEL_CFG = \"torchvision.ViT_B_16_Weights.IMAGENET1K_V1\""
   ]
  }
 ],
 "metadata": {
  "kernelspec": {
   "display_name": "btc",
   "language": "python",
   "name": "python3"
  },
  "language_info": {
   "codemirror_mode": {
    "name": "ipython",
    "version": 3
   },
   "file_extension": ".py",
   "mimetype": "text/x-python",
   "name": "python",
   "nbconvert_exporter": "python",
   "pygments_lexer": "ipython3",
   "version": "3.12.3"
  }
 },
 "nbformat": 4,
 "nbformat_minor": 5
}
