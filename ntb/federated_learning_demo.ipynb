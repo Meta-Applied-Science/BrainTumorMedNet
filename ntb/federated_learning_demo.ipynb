{
 "cells": [
  {
   "cell_type": "markdown",
   "id": "1149ecde",
   "metadata": {},
   "source": [
    "# This is federated learning demo"
   ]
  }
 ],
 "metadata": {
  "language_info": {
   "name": "python"
  }
 },
 "nbformat": 4,
 "nbformat_minor": 5
}
