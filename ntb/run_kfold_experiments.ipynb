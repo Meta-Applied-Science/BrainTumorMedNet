{
 "cells": [
  {
   "cell_type": "markdown",
   "id": "bdb60cf1",
   "metadata": {},
   "source": [
    "# **SETUP**"
   ]
  },
  {
   "cell_type": "code",
   "execution_count": 1,
   "id": "b059311c",
   "metadata": {},
   "outputs": [
    {
     "name": "stderr",
     "output_type": "stream",
     "text": [
      "/home/hoai-linh.dao/Envs/brats-env/lib/python3.11/site-packages/tqdm/auto.py:21: TqdmWarning: IProgress not found. Please update jupyter and ipywidgets. See https://ipywidgets.readthedocs.io/en/stable/user_install.html\n",
      "  from .autonotebook import tqdm as notebook_tqdm\n"
     ]
    },
    {
     "name": "stdout",
     "output_type": "stream",
     "text": [
      "CUDA available: True\n",
      "Number of GPUs: 2\n",
      "GPU 0: NVIDIA L40\n",
      "GPU 1: NVIDIA L40\n"
     ]
    }
   ],
   "source": [
    "from __future__ import annotations\n",
    "\n",
    "import itertools\n",
    "import os\n",
    "import pickle\n",
    "import sys\n",
    "from contextlib import redirect_stderr, redirect_stdout\n",
    "from pathlib import Path\n",
    "\n",
    "import torch\n",
    "from tqdm.auto import tqdm\n",
    "\n",
    "if \"__file__\" in globals():\n",
    "    ROOT_DIR = Path(__file__).resolve().parent.parent\n",
    "else:\n",
    "    ROOT_DIR = Path(os.getcwd()).resolve().parent  \n",
    "\n",
    "SRC_DIR = ROOT_DIR / \"src\"\n",
    "sys.path.insert(0, str(SRC_DIR))  \n",
    "\n",
    "from experiments import run_kfold_experiments\n",
    "from utils.io_utils import DevNull\n",
    "\n",
    "print(\"CUDA available:\", torch.cuda.is_available())\n",
    "print(\"Number of GPUs:\", torch.cuda.device_count())\n",
    "for i in range(torch.cuda.device_count()):\n",
    "    print(f\"GPU {i}: {torch.cuda.get_device_name(i)}\")\n"
   ]
  },
  {
   "cell_type": "code",
   "execution_count": 2,
   "id": "92228999",
   "metadata": {},
   "outputs": [],
   "source": [
    "DEVICE = \"cuda:0\" if torch.cuda.is_available() else \"cpu\"\n",
    "ROOT = Path(\"/home/hoai-linh.dao/Works/BraTS/results/self-experiments/test\")\n",
    "K_FOLDS = 8\n",
    "CHECKPOINT_FILE = ROOT / \"checkpoint.pkl\"\n",
    "SUMMARY_FILE = ROOT / \"summary.txt\"\n",
    "DTS_NAME = \"Figshare_x10\"\n",
    "\n",
    "# # FOR CNNs\n",
    "MODEL_NAMES = [\"VGG16\", \"B16_1K\"]\n",
    "CASE_NUMS = [\"4\"]\n",
    "OPTIMIZER_NAMES = [\"adam\"]\n",
    "\n",
    "# # FOR ViTs\n",
    "# MODEL_PATCH_SIZES = [\"B16\"]\n",
    "# IMG_NETS = [\"21K\"]\n",
    "# MODEL_NAMES = [f\"{patch}_{net}\" for patch in MODEL_PATCH_SIZES for net in IMG_NETS]\n",
    "# CASE_NUMS = [\"4\"]\n",
    "# OPTIMIZER_NAMES = [\"adam\"]"
   ]
  },
  {
   "cell_type": "markdown",
   "id": "cfb8d961",
   "metadata": {},
   "source": [
    "# **BENCH TEST**"
   ]
  },
  {
   "cell_type": "code",
   "execution_count": 3,
   "id": "94550490",
   "metadata": {},
   "outputs": [
    {
     "name": "stderr",
     "output_type": "stream",
     "text": [
      "Train + Validate: 100%|██████████| 1/1 [02:07<00:00, 127.53s/it]home/hoai-linh.dao/Works/BraTS/results/self-experiments/test/logs/adam/8fold_VGG16_case4]"
     ]
    },
    {
     "name": "stdout",
     "output_type": "stream",
     "text": [
      "Epoch 1/1 | Train Loss: 0.1662 | Train Acc: 0.9380 | Val Loss: 0.0769 | Val f1_macro: 0.9707\n"
     ]
    },
    {
     "name": "stderr",
     "output_type": "stream",
     "text": [
      "\n"
     ]
    },
    {
     "name": "stdout",
     "output_type": "stream",
     "text": [
      "\n",
      "Model weights saved to: /home/hoai-linh.dao/Works/BraTS/results/self-experiments/test/weights/adam/8fold_VGG16_case4/fold1.pth\n"
     ]
    },
    {
     "name": "stderr",
     "output_type": "stream",
     "text": [
      "Train + Validate: 100%|██████████| 1/1 [02:07<00:00, 127.90s/it]"
     ]
    },
    {
     "name": "stdout",
     "output_type": "stream",
     "text": [
      "Epoch 1/1 | Train Loss: 0.1577 | Train Acc: 0.9428 | Val Loss: 0.0720 | Val f1_macro: 0.9710\n"
     ]
    },
    {
     "name": "stderr",
     "output_type": "stream",
     "text": [
      "\n"
     ]
    },
    {
     "name": "stdout",
     "output_type": "stream",
     "text": [
      "\n",
      "Model weights saved to: /home/hoai-linh.dao/Works/BraTS/results/self-experiments/test/weights/adam/8fold_VGG16_case4/fold2.pth\n"
     ]
    },
    {
     "name": "stderr",
     "output_type": "stream",
     "text": [
      "Train + Validate: 100%|██████████| 1/1 [02:07<00:00, 127.98s/it]"
     ]
    },
    {
     "name": "stdout",
     "output_type": "stream",
     "text": [
      "Epoch 1/1 | Train Loss: 0.1527 | Train Acc: 0.9439 | Val Loss: 0.1032 | Val f1_macro: 0.9542\n"
     ]
    },
    {
     "name": "stderr",
     "output_type": "stream",
     "text": [
      "\n"
     ]
    },
    {
     "name": "stdout",
     "output_type": "stream",
     "text": [
      "\n",
      "Model weights saved to: /home/hoai-linh.dao/Works/BraTS/results/self-experiments/test/weights/adam/8fold_VGG16_case4/fold3.pth\n"
     ]
    },
    {
     "name": "stderr",
     "output_type": "stream",
     "text": [
      "Train + Validate: 100%|██████████| 1/1 [02:07<00:00, 127.59s/it]"
     ]
    },
    {
     "name": "stdout",
     "output_type": "stream",
     "text": [
      "Epoch 1/1 | Train Loss: 0.1641 | Train Acc: 0.9389 | Val Loss: 0.0767 | Val f1_macro: 0.9696\n"
     ]
    },
    {
     "name": "stderr",
     "output_type": "stream",
     "text": [
      "\n"
     ]
    },
    {
     "name": "stdout",
     "output_type": "stream",
     "text": [
      "\n",
      "Model weights saved to: /home/hoai-linh.dao/Works/BraTS/results/self-experiments/test/weights/adam/8fold_VGG16_case4/fold4.pth\n"
     ]
    },
    {
     "name": "stderr",
     "output_type": "stream",
     "text": [
      "Train + Validate: 100%|██████████| 1/1 [02:07<00:00, 127.84s/it]"
     ]
    },
    {
     "name": "stdout",
     "output_type": "stream",
     "text": [
      "Epoch 1/1 | Train Loss: 0.1577 | Train Acc: 0.9423 | Val Loss: 0.0639 | Val f1_macro: 0.9790\n"
     ]
    },
    {
     "name": "stderr",
     "output_type": "stream",
     "text": [
      "\n"
     ]
    },
    {
     "name": "stdout",
     "output_type": "stream",
     "text": [
      "\n",
      "Model weights saved to: /home/hoai-linh.dao/Works/BraTS/results/self-experiments/test/weights/adam/8fold_VGG16_case4/fold5.pth\n"
     ]
    },
    {
     "name": "stderr",
     "output_type": "stream",
     "text": [
      "Train + Validate: 100%|██████████| 1/1 [02:08<00:00, 128.17s/it]"
     ]
    },
    {
     "name": "stdout",
     "output_type": "stream",
     "text": [
      "Epoch 1/1 | Train Loss: 0.1684 | Train Acc: 0.9382 | Val Loss: 0.0622 | Val f1_macro: 0.9760\n"
     ]
    },
    {
     "name": "stderr",
     "output_type": "stream",
     "text": [
      "\n"
     ]
    },
    {
     "name": "stdout",
     "output_type": "stream",
     "text": [
      "\n",
      "Model weights saved to: /home/hoai-linh.dao/Works/BraTS/results/self-experiments/test/weights/adam/8fold_VGG16_case4/fold6.pth\n"
     ]
    },
    {
     "name": "stderr",
     "output_type": "stream",
     "text": [
      "Train + Validate: 100%|██████████| 1/1 [02:07<00:00, 127.79s/it]"
     ]
    },
    {
     "name": "stdout",
     "output_type": "stream",
     "text": [
      "Epoch 1/1 | Train Loss: 0.1686 | Train Acc: 0.9375 | Val Loss: 0.0688 | Val f1_macro: 0.9718\n"
     ]
    },
    {
     "name": "stderr",
     "output_type": "stream",
     "text": [
      "\n"
     ]
    },
    {
     "name": "stdout",
     "output_type": "stream",
     "text": [
      "\n",
      "Model weights saved to: /home/hoai-linh.dao/Works/BraTS/results/self-experiments/test/weights/adam/8fold_VGG16_case4/fold7.pth\n"
     ]
    },
    {
     "name": "stderr",
     "output_type": "stream",
     "text": [
      "Train + Validate: 100%|██████████| 1/1 [02:07<00:00, 127.78s/it]"
     ]
    },
    {
     "name": "stdout",
     "output_type": "stream",
     "text": [
      "Epoch 1/1 | Train Loss: 0.1618 | Train Acc: 0.9408 | Val Loss: 0.0943 | Val f1_macro: 0.9583\n"
     ]
    },
    {
     "name": "stderr",
     "output_type": "stream",
     "text": [
      "\n",
      "B16_1K_case4_adam:  50%|█████     | 1/2 [17:16<17:16, 1036.04s/it, folder=/home/hoai-linh.dao/Works/BraTS/results/self-experiments/test/logs/adam/8fold_B16_1K_case4]"
     ]
    },
    {
     "name": "stdout",
     "output_type": "stream",
     "text": [
      "\n",
      "Model weights saved to: /home/hoai-linh.dao/Works/BraTS/results/self-experiments/test/weights/adam/8fold_VGG16_case4/fold8.pth\n"
     ]
    },
    {
     "name": "stderr",
     "output_type": "stream",
     "text": [
      "Train + Validate: 100%|██████████| 1/1 [03:13<00:00, 193.99s/it]"
     ]
    },
    {
     "name": "stdout",
     "output_type": "stream",
     "text": [
      "Epoch 1/1 | Train Loss: 0.1366 | Train Acc: 0.9485 | Val Loss: 0.1278 | Val f1_macro: 0.9448\n"
     ]
    },
    {
     "name": "stderr",
     "output_type": "stream",
     "text": [
      "\n"
     ]
    },
    {
     "name": "stdout",
     "output_type": "stream",
     "text": [
      "\n",
      "Model weights saved to: /home/hoai-linh.dao/Works/BraTS/results/self-experiments/test/weights/adam/8fold_B16_1K_case4/fold1.pth\n"
     ]
    },
    {
     "name": "stderr",
     "output_type": "stream",
     "text": [
      "Train + Validate: 100%|██████████| 1/1 [03:14<00:00, 194.93s/it]"
     ]
    },
    {
     "name": "stdout",
     "output_type": "stream",
     "text": [
      "Epoch 1/1 | Train Loss: 0.1344 | Train Acc: 0.9495 | Val Loss: 0.0782 | Val f1_macro: 0.9667\n"
     ]
    },
    {
     "name": "stderr",
     "output_type": "stream",
     "text": [
      "\n"
     ]
    },
    {
     "name": "stdout",
     "output_type": "stream",
     "text": [
      "\n",
      "Model weights saved to: /home/hoai-linh.dao/Works/BraTS/results/self-experiments/test/weights/adam/8fold_B16_1K_case4/fold2.pth\n"
     ]
    },
    {
     "name": "stderr",
     "output_type": "stream",
     "text": [
      "Train + Validate: 100%|██████████| 1/1 [03:13<00:00, 193.16s/it]"
     ]
    },
    {
     "name": "stdout",
     "output_type": "stream",
     "text": [
      "Epoch 1/1 | Train Loss: 0.1314 | Train Acc: 0.9520 | Val Loss: 0.0571 | Val f1_macro: 0.9727\n"
     ]
    },
    {
     "name": "stderr",
     "output_type": "stream",
     "text": [
      "\n"
     ]
    },
    {
     "name": "stdout",
     "output_type": "stream",
     "text": [
      "\n",
      "Model weights saved to: /home/hoai-linh.dao/Works/BraTS/results/self-experiments/test/weights/adam/8fold_B16_1K_case4/fold3.pth\n"
     ]
    },
    {
     "name": "stderr",
     "output_type": "stream",
     "text": [
      "Train + Validate:   0%|          | 0/1 [02:11<?, ?it/s]\n",
      "B16_1K_case4_adam:  50%|█████     | 1/2 [29:18<29:18, 1758.87s/it, folder=/home/hoai-linh.dao/Works/BraTS/results/self-experiments/test/logs/adam/8fold_B16_1K_case4]\n"
     ]
    },
    {
     "ename": "KeyboardInterrupt",
     "evalue": "",
     "output_type": "error",
     "traceback": [
      "\u001b[31m---------------------------------------------------------------------------\u001b[39m",
      "\u001b[31mKeyboardInterrupt\u001b[39m                         Traceback (most recent call last)",
      "\u001b[36mCell\u001b[39m\u001b[36m \u001b[39m\u001b[32mIn[3]\u001b[39m\u001b[32m, line 34\u001b[39m\n\u001b[32m     31\u001b[39m pbar.set_postfix(folder=\u001b[38;5;28mstr\u001b[39m(log_folder))\n\u001b[32m     33\u001b[39m \u001b[38;5;28;01mtry\u001b[39;00m:\n\u001b[32m---> \u001b[39m\u001b[32m34\u001b[39m     result = \u001b[43mrun_kfold_experiments\u001b[49m\u001b[43m(\u001b[49m\n\u001b[32m     35\u001b[39m \u001b[43m        \u001b[49m\u001b[43mmodel_name\u001b[49m\u001b[43m      \u001b[49m\u001b[43m=\u001b[49m\u001b[43m \u001b[49m\u001b[43mmodel_name\u001b[49m\u001b[43m,\u001b[49m\n\u001b[32m     36\u001b[39m \u001b[43m        \u001b[49m\u001b[43mcase_num\u001b[49m\u001b[43m        \u001b[49m\u001b[43m=\u001b[49m\u001b[43m \u001b[49m\u001b[43mcase_num\u001b[49m\u001b[43m,\u001b[49m\n\u001b[32m     37\u001b[39m \u001b[43m        \u001b[49m\u001b[43moptimizer_name\u001b[49m\u001b[43m  \u001b[49m\u001b[43m=\u001b[49m\u001b[43m \u001b[49m\u001b[43moptimizer\u001b[49m\u001b[43m,\u001b[49m\n\u001b[32m     38\u001b[39m \u001b[43m        \u001b[49m\u001b[43mdataset_name\u001b[49m\u001b[43m    \u001b[49m\u001b[43m=\u001b[49m\u001b[43m \u001b[49m\u001b[43mDTS_NAME\u001b[49m\u001b[43m,\u001b[49m\n\u001b[32m     39\u001b[39m \u001b[43m        \u001b[49m\u001b[43mexperiment_root\u001b[49m\u001b[43m \u001b[49m\u001b[43m=\u001b[49m\u001b[43m \u001b[49m\u001b[43mROOT\u001b[49m\u001b[43m,\u001b[49m\n\u001b[32m     40\u001b[39m \u001b[43m        \u001b[49m\u001b[43mk_folds\u001b[49m\u001b[43m         \u001b[49m\u001b[43m=\u001b[49m\u001b[43m \u001b[49m\u001b[43mK_FOLDS\u001b[49m\u001b[43m,\u001b[49m\n\u001b[32m     41\u001b[39m \u001b[43m        \u001b[49m\u001b[43mseed\u001b[49m\u001b[43m            \u001b[49m\u001b[43m=\u001b[49m\u001b[43m \u001b[49m\u001b[32;43m42\u001b[39;49m\u001b[43m,\u001b[49m\n\u001b[32m     42\u001b[39m \u001b[43m        \u001b[49m\u001b[43mdevice\u001b[49m\u001b[43m          \u001b[49m\u001b[43m=\u001b[49m\u001b[43m \u001b[49m\u001b[43mDEVICE\u001b[49m\n\u001b[32m     43\u001b[39m \u001b[43m    \u001b[49m\u001b[43m)\u001b[49m\n\u001b[32m     45\u001b[39m     all_results[cfg_key] = result\n\u001b[32m     46\u001b[39m     CHECKPOINT_FILE.write_bytes(pickle.dumps(all_results))\n",
      "\u001b[36mFile \u001b[39m\u001b[32m~/Works/BraTS/src/experiments.py:256\u001b[39m, in \u001b[36mrun_kfold_experiments\u001b[39m\u001b[34m(model_name, case_num, optimizer_name, dataset_name, experiment_root, k_folds, seed, device, secondary_metric, topk, positive_label, epochs)\u001b[39m\n\u001b[32m    253\u001b[39m wts_path  = wts_root / \u001b[33mf\u001b[39m\u001b[33m\"\u001b[39m\u001b[33mfold\u001b[39m\u001b[38;5;132;01m{\u001b[39;00mfold\u001b[38;5;132;01m}\u001b[39;00m\u001b[33m.pth\u001b[39m\u001b[33m\"\u001b[39m\n\u001b[32m    255\u001b[39m \u001b[38;5;66;03m# Train and validate\u001b[39;00m\n\u001b[32m--> \u001b[39m\u001b[32m256\u001b[39m history = \u001b[43mtrain_val\u001b[49m\u001b[43m(\u001b[49m\n\u001b[32m    257\u001b[39m \u001b[43m    \u001b[49m\u001b[43mmodel\u001b[49m\u001b[43m=\u001b[49m\u001b[43mmodel\u001b[49m\u001b[43m,\u001b[49m\n\u001b[32m    258\u001b[39m \u001b[43m    \u001b[49m\u001b[43mtrain_dataloader\u001b[49m\u001b[43m=\u001b[49m\u001b[43mtrain_loader\u001b[49m\u001b[43m,\u001b[49m\n\u001b[32m    259\u001b[39m \u001b[43m    \u001b[49m\u001b[43mval_dataloader\u001b[49m\u001b[43m=\u001b[49m\u001b[43mval_loader\u001b[49m\u001b[43m,\u001b[49m\n\u001b[32m    260\u001b[39m \u001b[43m    \u001b[49m\u001b[43moptimizer\u001b[49m\u001b[43m=\u001b[49m\u001b[43moptimizer\u001b[49m\u001b[43m,\u001b[49m\n\u001b[32m    261\u001b[39m \u001b[43m    \u001b[49m\u001b[43mloss_fn\u001b[49m\u001b[43m=\u001b[49m\u001b[43mnn\u001b[49m\u001b[43m.\u001b[49m\u001b[43mCrossEntropyLoss\u001b[49m\u001b[43m(\u001b[49m\u001b[43m)\u001b[49m\u001b[43m,\u001b[49m\n\u001b[32m    262\u001b[39m \u001b[43m    \u001b[49m\u001b[43mepochs\u001b[49m\u001b[43m=\u001b[49m\u001b[43mhparams\u001b[49m\u001b[43m[\u001b[49m\u001b[33;43m\"\u001b[39;49m\u001b[33;43mne\u001b[39;49m\u001b[33;43m\"\u001b[39;49m\u001b[43m]\u001b[49m\u001b[43m,\u001b[49m\n\u001b[32m    263\u001b[39m \u001b[43m    \u001b[49m\u001b[43mdevice\u001b[49m\u001b[43m=\u001b[49m\u001b[43mdevice\u001b[49m\u001b[43m,\u001b[49m\n\u001b[32m    264\u001b[39m \u001b[43m    \u001b[49m\u001b[43msecondary_metric\u001b[49m\u001b[43m=\u001b[49m\u001b[43msecondary_metric\u001b[49m\u001b[43m,\u001b[49m\n\u001b[32m    265\u001b[39m \u001b[43m    \u001b[49m\u001b[43mtopk\u001b[49m\u001b[43m=\u001b[49m\u001b[43mtopk\u001b[49m\u001b[43m,\u001b[49m\n\u001b[32m    266\u001b[39m \u001b[43m    \u001b[49m\u001b[43mpositive_label\u001b[49m\u001b[43m=\u001b[49m\u001b[43mpositive_label\u001b[49m\u001b[43m,\u001b[49m\n\u001b[32m    267\u001b[39m \u001b[43m    \u001b[49m\u001b[43msave_path\u001b[49m\u001b[43m=\u001b[49m\u001b[38;5;28;43mstr\u001b[39;49m\u001b[43m(\u001b[49m\u001b[43mwts_path\u001b[49m\u001b[43m)\u001b[49m\u001b[43m,\u001b[49m\n\u001b[32m    268\u001b[39m \u001b[43m    \u001b[49m\u001b[43mlog\u001b[49m\u001b[43m=\u001b[49m\u001b[38;5;28;43mstr\u001b[39;49m\u001b[43m(\u001b[49m\u001b[43mlog_path\u001b[49m\u001b[43m)\u001b[49m\u001b[43m,\u001b[49m\n\u001b[32m    269\u001b[39m \u001b[43m\u001b[49m\u001b[43m)\u001b[49m\n\u001b[32m    271\u001b[39m \u001b[38;5;66;03m# Record final validation metric\u001b[39;00m\n\u001b[32m    272\u001b[39m val_metrics = history[\u001b[33mf\u001b[39m\u001b[33m\"\u001b[39m\u001b[33mval_\u001b[39m\u001b[38;5;132;01m{\u001b[39;00msecondary_metric\u001b[38;5;132;01m}\u001b[39;00m\u001b[33m\"\u001b[39m]\n",
      "\u001b[36mFile \u001b[39m\u001b[32m~/Works/BraTS/src/training/engine.py:319\u001b[39m, in \u001b[36mtrain_val\u001b[39m\u001b[34m(model, train_dataloader, val_dataloader, optimizer, loss_fn, epochs, device, secondary_metric, topk, positive_label, save_path, log)\u001b[39m\n\u001b[32m    309\u001b[39m     fh.write(\n\u001b[32m    310\u001b[39m         \u001b[33m\"\u001b[39m\u001b[33m=\u001b[39m\u001b[33m\"\u001b[39m * \u001b[32m87\u001b[39m +\n\u001b[32m    311\u001b[39m         \u001b[33mf\u001b[39m\u001b[33m\"\u001b[39m\u001b[38;5;130;01m\\n\u001b[39;00m\u001b[33mModel Info - \u001b[39m\u001b[38;5;132;01m{\u001b[39;00minfo[\u001b[32m0\u001b[39m]\u001b[38;5;132;01m}\u001b[39;00m\u001b[33m | Patch: \u001b[39m\u001b[38;5;132;01m{\u001b[39;00minfo[\u001b[32m1\u001b[39m]\u001b[38;5;132;01m}\u001b[39;00m\u001b[33m | EmbDim: \u001b[39m\u001b[38;5;132;01m{\u001b[39;00minfo[\u001b[32m2\u001b[39m]\u001b[38;5;132;01m}\u001b[39;00m\u001b[33m | \u001b[39m\u001b[33m\"\u001b[39m\n\u001b[32m   (...)\u001b[39m\u001b[32m    315\u001b[39m         \u001b[33m\"\u001b[39m\u001b[33m=\u001b[39m\u001b[33m\"\u001b[39m * \u001b[32m87\u001b[39m\n\u001b[32m    316\u001b[39m     )\n\u001b[32m    318\u001b[39m \u001b[38;5;28;01mfor\u001b[39;00m epoch \u001b[38;5;129;01min\u001b[39;00m tqdm(\u001b[38;5;28mrange\u001b[39m(epochs), desc=\u001b[33m\"\u001b[39m\u001b[33mTrain + Validate\u001b[39m\u001b[33m\"\u001b[39m):\n\u001b[32m--> \u001b[39m\u001b[32m319\u001b[39m     train_loss, train_acc = \u001b[43mtrain_step\u001b[49m\u001b[43m(\u001b[49m\u001b[43mmodel\u001b[49m\u001b[43m,\u001b[49m\u001b[43m \u001b[49m\u001b[43mtrain_dataloader\u001b[49m\u001b[43m,\u001b[49m\u001b[43m \u001b[49m\u001b[43mloss_fn\u001b[49m\u001b[43m,\u001b[49m\u001b[43m \u001b[49m\u001b[43moptimizer\u001b[49m\u001b[43m,\u001b[49m\u001b[43m \u001b[49m\u001b[43mdevice\u001b[49m\u001b[43m)\u001b[49m\n\u001b[32m    320\u001b[39m     val_loss, val_metric = test_step(\n\u001b[32m    321\u001b[39m         model,\n\u001b[32m    322\u001b[39m         val_dataloader,\n\u001b[32m   (...)\u001b[39m\u001b[32m    327\u001b[39m         positive_label=positive_label,\n\u001b[32m    328\u001b[39m     )\n\u001b[32m    330\u001b[39m     \u001b[38;5;28mprint\u001b[39m(\n\u001b[32m    331\u001b[39m         \u001b[33mf\u001b[39m\u001b[33m\"\u001b[39m\u001b[33mEpoch \u001b[39m\u001b[38;5;132;01m{\u001b[39;00mepoch+\u001b[32m1\u001b[39m\u001b[38;5;132;01m}\u001b[39;00m\u001b[33m/\u001b[39m\u001b[38;5;132;01m{\u001b[39;00mepochs\u001b[38;5;132;01m}\u001b[39;00m\u001b[33m | \u001b[39m\u001b[33m\"\u001b[39m\n\u001b[32m    332\u001b[39m         \u001b[33mf\u001b[39m\u001b[33m\"\u001b[39m\u001b[33mTrain Loss: \u001b[39m\u001b[38;5;132;01m{\u001b[39;00mtrain_loss\u001b[38;5;132;01m:\u001b[39;00m\u001b[33m.4f\u001b[39m\u001b[38;5;132;01m}\u001b[39;00m\u001b[33m | Train Acc: \u001b[39m\u001b[38;5;132;01m{\u001b[39;00mtrain_acc\u001b[38;5;132;01m:\u001b[39;00m\u001b[33m.4f\u001b[39m\u001b[38;5;132;01m}\u001b[39;00m\u001b[33m | \u001b[39m\u001b[33m\"\u001b[39m\n\u001b[32m    333\u001b[39m         \u001b[33mf\u001b[39m\u001b[33m\"\u001b[39m\u001b[33mVal Loss: \u001b[39m\u001b[38;5;132;01m{\u001b[39;00mval_loss\u001b[38;5;132;01m:\u001b[39;00m\u001b[33m.4f\u001b[39m\u001b[38;5;132;01m}\u001b[39;00m\u001b[33m | Val \u001b[39m\u001b[38;5;132;01m{\u001b[39;00msecondary_metric\u001b[38;5;132;01m}\u001b[39;00m\u001b[33m: \u001b[39m\u001b[38;5;132;01m{\u001b[39;00mval_metric\u001b[38;5;132;01m:\u001b[39;00m\u001b[33m.4f\u001b[39m\u001b[38;5;132;01m}\u001b[39;00m\u001b[33m\"\u001b[39m\n\u001b[32m    334\u001b[39m     )\n",
      "\u001b[36mFile \u001b[39m\u001b[32m~/Works/BraTS/src/training/engine.py:213\u001b[39m, in \u001b[36mtrain_step\u001b[39m\u001b[34m(model, dataloader, loss_fn, optimizer, device)\u001b[39m\n\u001b[32m    210\u001b[39m loss.backward()\n\u001b[32m    211\u001b[39m optimizer.step()\n\u001b[32m--> \u001b[39m\u001b[32m213\u001b[39m epoch_loss += \u001b[43mloss\u001b[49m\u001b[43m.\u001b[49m\u001b[43mitem\u001b[49m\u001b[43m(\u001b[49m\u001b[43m)\u001b[49m\n\u001b[32m    214\u001b[39m preds = torch.argmax(torch.softmax(y_pred, dim=\u001b[32m1\u001b[39m), dim=\u001b[32m1\u001b[39m)\n\u001b[32m    215\u001b[39m epoch_acc += (preds == y).sum().item() / \u001b[38;5;28mlen\u001b[39m(y_pred)\n",
      "\u001b[31mKeyboardInterrupt\u001b[39m: "
     ]
    }
   ],
   "source": [
    "# ---------------------------------------------------------------------------\n",
    "# Recover previous progress (if any)\n",
    "# ---------------------------------------------------------------------------\n",
    "if CHECKPOINT_FILE.exists():\n",
    "    all_results = pickle.loads(CHECKPOINT_FILE.read_bytes())\n",
    "else:\n",
    "    all_results: dict[str, dict] = {}\n",
    "\n",
    "# ---------------------------------------------------------------------------\n",
    "# Build list of runs still pending\n",
    "# ---------------------------------------------------------------------------\n",
    "combinations = list(itertools.product(MODEL_NAMES, CASE_NUMS, OPTIMIZER_NAMES))\n",
    "remaining = [\n",
    "    (model, case, opt)\n",
    "    for model, case, opt in combinations\n",
    "    if f\"{model}_case{case}_{opt}\" not in all_results\n",
    "]\n",
    "\n",
    "# ---------------------------------------------------------------------------\n",
    "# Run the loop\n",
    "# ---------------------------------------------------------------------------\n",
    "ROOT.mkdir(parents=True, exist_ok=True)\n",
    "\n",
    "pbar = tqdm(remaining, total=len(remaining), desc=\"Running k-fold experiments\")\n",
    "for model_name, case_num, optimizer in pbar:\n",
    "    cfg_key = f\"{model_name}_case{case_num}_{optimizer}\"\n",
    "    pbar.set_description(cfg_key)\n",
    "\n",
    "    # compute where logs will go for this run\n",
    "    log_folder = ROOT / \"logs\" / optimizer / f\"{K_FOLDS}fold_{model_name}_case{case_num}\"\n",
    "    pbar.set_postfix(folder=str(log_folder))\n",
    "\n",
    "    try:\n",
    "        result = run_stragified_kfold_experiments(\n",
    "            model_name      = model_name,\n",
    "            case_num        = case_num,\n",
    "            optimizer_name  = optimizer,\n",
    "            dataset_name    = DTS_NAME,\n",
    "            experiment_root = ROOT,\n",
    "            k_folds         = K_FOLDS,\n",
    "            seed            = 42,\n",
    "            device          = DEVICE\n",
    "        )\n",
    "\n",
    "        all_results[cfg_key] = result\n",
    "        CHECKPOINT_FILE.write_bytes(pickle.dumps(all_results))\n",
    "\n",
    "    except Exception as exc:\n",
    "        tqdm.write(f\"[FAIL] {cfg_key}: {exc}\")\n",
    "\n",
    "# ---------------------------------------------------------------------------\n",
    "# Write summary\n",
    "# ---------------------------------------------------------------------------\n",
    "with SUMMARY_FILE.open(\"w\", encoding=\"utf-8\") as fh:\n",
    "    for cfg, res in all_results.items():\n",
    "        if isinstance(res, dict):\n",
    "            avg = res.get(\"avg_val\")\n",
    "            if avg is not None:\n",
    "                fh.write(f\"{cfg}: avg_val = {avg:.4f}\\n\")\n",
    "            else:\n",
    "                fh.write(f\"{cfg}: no avg_val found\\n\")\n",
    "        else:\n",
    "            fh.write(f\"{cfg}: FAILED or no result\\n\")\n",
    "\n",
    "print(\"All done – see\", SUMMARY_FILE)\n"
   ]
  }
 ],
 "metadata": {
  "kernelspec": {
   "display_name": "Python 3",
   "language": "python",
   "name": "python3"
  },
  "language_info": {
   "codemirror_mode": {
    "name": "ipython",
    "version": 3
   },
   "file_extension": ".py",
   "mimetype": "text/x-python",
   "name": "python",
   "nbconvert_exporter": "python",
   "pygments_lexer": "ipython3",
   "version": "3.11.11"
  }
 },
 "nbformat": 4,
 "nbformat_minor": 5
}
