{
 "cells": [
  {
   "cell_type": "code",
   "execution_count": 2,
   "id": "1759af8e",
   "metadata": {},
   "outputs": [
    {
     "name": "stderr",
     "output_type": "stream",
     "text": [
      "/home/hoai-linh.dao/Envs/brats-env/lib/python3.11/site-packages/tqdm/auto.py:21: TqdmWarning: IProgress not found. Please update jupyter and ipywidgets. See https://ipywidgets.readthedocs.io/en/stable/user_install.html\n",
      "  from .autonotebook import tqdm as notebook_tqdm\n"
     ]
    },
    {
     "name": "stdout",
     "output_type": "stream",
     "text": [
      "CUDA available: True\n",
      "Number of GPUs: 2\n",
      "GPU 0: NVIDIA L40\n",
      "GPU 1: NVIDIA L40\n"
     ]
    }
   ],
   "source": [
    "import torch\n",
    "import os\n",
    "import sys\n",
    "\n",
    "import pickle\n",
    "import itertools\n",
    "from tqdm import tqdm\n",
    "\n",
    "from contextlib import redirect_stdout, redirect_stderr\n",
    "\n",
    "current_dir = os.getcwd()\n",
    "sys.path.append(os.path.abspath(os.path.join(current_dir, \"../src/\")))\n",
    "from engine import run_vit_experiment, run_cnn_experiment, test_step\n",
    "from config import VIT_MODEL_CONFIG_MAP, CNN_MODEL_CONFIG_MAP, OPTIMIZER_CONFIG_MAP\n",
    "from utils import _DevNull\n",
    "from data_loader import create_dataloaders\n",
    "\n",
    "print(\"CUDA available:\", torch.cuda.is_available())\n",
    "print(\"Number of GPUs:\", torch.cuda.device_count())\n",
    "for i in range(torch.cuda.device_count()):\n",
    "    print(f\"GPU {i}: {torch.cuda.get_device_name(i)}\")"
   ]
  },
  {
   "cell_type": "code",
   "execution_count": null,
   "id": "145a75c2",
   "metadata": {},
   "outputs": [
    {
     "name": "stdout",
     "output_type": "stream",
     "text": [
      "Test Loss: 0.0305, Test Accuracy: 0.9954\n"
     ]
    }
   ],
   "source": [
    "import torch\n",
    "from torchvision import transforms\n",
    "from model_utils import load_vit_model\n",
    "from torch import nn\n",
    "\n",
    "# Setup device\n",
    "device = torch.device(\"cuda\" if torch.cuda.is_available() else \"cpu\")\n",
    "\n",
    "model_cfg = {\n",
    "    \"model_name\": \"torchvision.ViT_L_16_Weights.IMAGENET1K_V1\",\n",
    "    \"pretrained\": True,\n",
    "    \"num_classes\": 4\n",
    "}\n",
    "checkpoint_path = \"/home/hoai-linh.dao/Works/BraTS/results/self-experiments/extended-dataset-MRI-scan/weights/adam/L16_1K_case3.pth\"\n",
    "\n",
    "model, model_transforms = load_vit_model(device, model_cfg[\"model_name\"], model_cfg['num_classes'])\n",
    "\n",
    "model.load_state_dict(torch.load(checkpoint_path, map_location=device))\n",
    "model.to(device)\n",
    "model.eval()\n",
    "\n",
    "data_transforms = transforms.Compose([\n",
    "    transforms.Grayscale(num_output_channels=3),\n",
    "    model_transforms,\n",
    "])\n",
    "\n",
    "_, _, test_loader = create_dataloaders(\n",
    "    dataset_dir=\"/home/hoai-linh.dao/Works/BraTS/dts/MRI-Scan\",\n",
    "    transform=data_transforms,\n",
    "    batch_size=32,\n",
    "    num_workers=4,\n",
    "    train_ratio=0.7,\n",
    "    val_ratio=0.1,\n",
    "    test_ratio=0.2,\n",
    "    seed=42,\n",
    "    mode=\"split_folder\"\n",
    ")\n",
    "\n",
    "loss_fn = nn.CrossEntropyLoss()\n",
    "\n",
    "test_loss, test_acc = test_step(model=model,\n",
    "                               dataloader=test_loader,\n",
    "                               loss_fn=loss_fn,\n",
    "                               device=device)\n",
    "\n",
    "print(f\"Test Loss: {test_loss:.4f}, Test Accuracy: {test_acc:.4f}\")\n"
   ]
  }
 ],
 "metadata": {
  "kernelspec": {
   "display_name": "Python 3",
   "language": "python",
   "name": "python3"
  },
  "language_info": {
   "codemirror_mode": {
    "name": "ipython",
    "version": 3
   },
   "file_extension": ".py",
   "mimetype": "text/x-python",
   "name": "python",
   "nbconvert_exporter": "python",
   "pygments_lexer": "ipython3",
   "version": "3.11.11"
  }
 },
 "nbformat": 4,
 "nbformat_minor": 5
}
